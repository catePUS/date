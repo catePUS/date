{
 "cells": [
  {
   "cell_type": "markdown",
   "metadata": {},
   "source": [
    "The Moscow Times - Wednesday, October 2, 2002\n",
    "The Guardian - Friday, 11.10.13\n",
    "Daily News - Thursday, 18 August 1977"
   ]
  },
  {
   "cell_type": "code",
   "execution_count": 31,
   "metadata": {},
   "outputs": [
    {
     "data": {
      "text/plain": [
       "datetime.datetime(2013, 10, 11, 0, 0)"
      ]
     },
     "execution_count": 31,
     "metadata": {},
     "output_type": "execute_result"
    }
   ],
   "source": [
    "from datetime import datetime\n",
    "t_g = datetime.strptime('Friday, 10.11.13', '%A, %m.%d.%y')\n",
    "t_g"
   ]
  },
  {
   "cell_type": "code",
   "execution_count": 32,
   "metadata": {},
   "outputs": [
    {
     "name": "stdout",
     "output_type": "stream",
     "text": [
      "Friday, 10.11.13\n"
     ]
    }
   ],
   "source": [
    "print(t_g.strftime('%A, %m.%d.%y'))"
   ]
  },
  {
   "cell_type": "code",
   "execution_count": 24,
   "metadata": {},
   "outputs": [
    {
     "data": {
      "text/plain": [
       "datetime.datetime(2002, 10, 2, 0, 0)"
      ]
     },
     "execution_count": 24,
     "metadata": {},
     "output_type": "execute_result"
    }
   ],
   "source": [
    "from datetime import datetime\n",
    "M_T = datetime.strptime('Wednesday, October 2, 2002', '%A, %B %d, %Y')\n",
    "M_T"
   ]
  },
  {
   "cell_type": "code",
   "execution_count": 26,
   "metadata": {},
   "outputs": [
    {
     "name": "stdout",
     "output_type": "stream",
     "text": [
      "Wednesday, October 02, 2002\n"
     ]
    }
   ],
   "source": [
    "print(M_T.strftime('%A, %B %d, %Y'))"
   ]
  },
  {
   "cell_type": "code",
   "execution_count": 27,
   "metadata": {},
   "outputs": [
    {
     "data": {
      "text/plain": [
       "datetime.datetime(1977, 8, 18, 0, 0)"
      ]
     },
     "execution_count": 27,
     "metadata": {},
     "output_type": "execute_result"
    }
   ],
   "source": [
    "from datetime import datetime\n",
    "d_n = datetime.strptime('Thursday, 18 August 1977', '%A, %d %B %Y')\n",
    "d_n"
   ]
  },
  {
   "cell_type": "code",
   "execution_count": 29,
   "metadata": {},
   "outputs": [
    {
     "name": "stdout",
     "output_type": "stream",
     "text": [
      "Thursday, 18 August 1977\n"
     ]
    }
   ],
   "source": [
    "print(d_n.strftime('%A, %d %B %Y'))"
   ]
  },
  {
   "cell_type": "markdown",
   "metadata": {},
   "source": [
    "# Задание 2\n",
    "\n",
    "Дан поток дат в формате YYYY-MM-DD, в которых встречаются некорректные значения:\n",
    "stream = [‘2018-04-02’, ‘2018-02-29’, ‘2018-19-02’]\n",
    "\n",
    "Напишите функцию, которая проверяет эти даты на корректность. Т. е. для каждой даты возвращает True (дата корректна) или False (некорректная дата)."
   ]
  },
  {
   "cell_type": "code",
   "execution_count": 132,
   "metadata": {},
   "outputs": [
    {
     "name": "stdout",
     "output_type": "stream",
     "text": [
      "True\n",
      "False\n",
      "False\n"
     ]
    }
   ],
   "source": [
    "stream = ['2018-04-02', '2018-02-29', '2018-19-02']\n",
    "from datetime import datetime\n",
    "def validate_date(form_):\n",
    "    try:\n",
    "        datetime.strptime(form_, '%Y-%m-%d')\n",
    "        return True\n",
    "    except:\n",
    "        return False\n",
    "  \n",
    "for form_ in stream:\n",
    "    print(validate_date (form_))\n",
    "    "
   ]
  },
  {
   "cell_type": "markdown",
   "metadata": {},
   "source": [
    "## Задание 3\n",
    "Напишите функцию date_range, которая возвращает список дат за период от start_date до end_date. Даты должны вводиться в формате YYYY-MM-DD. В случае неверного формата или при start_date > end_date должен возвращаться пустой список.\n",
    "\n"
   ]
  },
  {
   "cell_type": "code",
   "execution_count": 62,
   "metadata": {},
   "outputs": [
    {
     "name": "stdout",
     "output_type": "stream",
     "text": [
      "2018-04-02\n",
      "2018-04-03\n",
      "2018-04-04\n",
      "2018-04-05\n",
      "2018-04-06\n",
      "2018-04-07\n",
      "2018-04-08\n",
      "2018-04-09\n",
      "2018-04-10\n",
      "2018-04-11\n",
      "2018-04-12\n",
      "2018-04-13\n",
      "2018-04-14\n",
      "2018-04-15\n"
     ]
    }
   ],
   "source": [
    "start_date = '2018-04-02'\n",
    "end_date = '2018-04-15'\n",
    "from datetime import datetime\n",
    "from datetime import timedelta\n",
    "def date_range(start_date, end_date):\n",
    "    a= list()\n",
    "    try:\n",
    "        start_date_d = datetime.strptime(start_date, '%Y-%m-%d')\n",
    "        end_date_d = datetime.strptime(end_date, '%Y-%m-%d')\n",
    "        while start_date_d <= end_date_d:\n",
    "            a.append(start_date_d.strftime('%Y-%m-%d'))\n",
    "            start_date_d+=timedelta(days=1)\n",
    "        return a\n",
    "    except:\n",
    "        return a\n",
    "for i in date_range(start_date, end_date):\n",
    "    print(i)"
   ]
  },
  {
   "cell_type": "code",
   "execution_count": null,
   "metadata": {},
   "outputs": [],
   "source": []
  }
 ],
 "metadata": {
  "kernelspec": {
   "display_name": "Python 3",
   "language": "python",
   "name": "python3"
  },
  "language_info": {
   "codemirror_mode": {
    "name": "ipython",
    "version": 3
   },
   "file_extension": ".py",
   "mimetype": "text/x-python",
   "name": "python",
   "nbconvert_exporter": "python",
   "pygments_lexer": "ipython3",
   "version": "3.8.5"
  }
 },
 "nbformat": 4,
 "nbformat_minor": 4
}
